{
  "nbformat": 4,
  "nbformat_minor": 0,
  "metadata": {
    "kernelspec": {
      "display_name": "Python 3",
      "language": "python",
      "name": "python3"
    },
    "language_info": {
      "codemirror_mode": {
        "name": "ipython",
        "version": 3
      },
      "file_extension": ".py",
      "mimetype": "text/x-python",
      "name": "python",
      "nbconvert_exporter": "python",
      "pygments_lexer": "ipython3",
      "version": "3.7.4"
    },
    "colab": {
      "provenance": [],
      "include_colab_link": true
    }
  },
  "cells": [
    {
      "cell_type": "markdown",
      "metadata": {
        "id": "view-in-github",
        "colab_type": "text"
      },
      "source": [
        "<a href=\"https://colab.research.google.com/github/Sajid-Vagh/localrepo/blob/main/Assignment_Statements%2C_Indentation_and_Conditionals.ipynb\" target=\"_parent\"><img src=\"https://colab.research.google.com/assets/colab-badge.svg\" alt=\"Open In Colab\"/></a>"
      ]
    },
    {
      "cell_type": "markdown",
      "metadata": {
        "id": "8WbUJEVzs8Bx"
      },
      "source": [
        "## <u>While doing this assignment only use those concepts which have been taught till now</u>"
      ]
    },
    {
      "cell_type": "markdown",
      "metadata": {
        "id": "KjPWYK0Rs8By"
      },
      "source": [
        "## <u>Problem 1</u>\n",
        "\n",
        "### As an analyst, you had to present the quarterly performance results of your client. The data which you were provided was on daily basis. To complete this task, you needed to extract the quarter from a given date. For example:\n",
        "\n",
        "* if the date lies between 1st Jan, 2020 - 31st March, 2020, you need to extract the corresponding quarter as '2020-Q1'\n",
        "\n",
        "* if the date lies between 1st April, 2020 - 30th June, 2020, the extracted quarter will be '2020-Q2'\n",
        "\n",
        "* if the date lies between 1st July, 2020 - 30th September, 2020, the extracted quarter will be '2020-Q3'\n",
        "\n",
        "* if the date lies between 1st October, 2020 - 31st Decemeber, 2020 then the extracted quarter will be '2020-Q4'\n"
      ]
    },
    {
      "cell_type": "code",
      "metadata": {
        "id": "RxVZTrenzfHC",
        "colab": {
          "base_uri": "https://localhost:8080/"
        },
        "outputId": "4017c6c3-b7f5-40d8-dc9b-28480914d9ec"
      },
      "source": [
        "# Take a proper date input from the user in the format YYYY-MM-DD. Consider this date as a string\n",
        "user_date = input(\"Enter the date yyyy-mm-dd: \")\n",
        "print(user_date)\n"
      ],
      "execution_count": 106,
      "outputs": [
        {
          "output_type": "stream",
          "name": "stdout",
          "text": [
            "Enter the date yyyy-mm-dd: 2023/2/1\n",
            "2023/2/1\n"
          ]
        }
      ]
    },
    {
      "cell_type": "code",
      "metadata": {
        "id": "N1Yhpkiws8B3",
        "colab": {
          "base_uri": "https://localhost:8080/"
        },
        "outputId": "0de78d65-86e7-4434-8773-4f18f3603bce"
      },
      "source": [
        "# Write your code using if else statements to extract the quarter\n",
        "date_year = int(input(\"Enter the year: \"))\n",
        "date_month = int(input(\"Enter the month (1-12): \"))\n",
        "\n",
        "\n",
        "if date_month >= 1 and date_month <= 3:\n",
        "    quarter = str(date_year) + \"-Q1\"\n",
        "elif date_month >= 4 and date_month <= 6:\n",
        "    quarter = str(date_year) + \"-Q2\"\n",
        "elif date_month >= 7 and date_month <= 9:\n",
        "    quarter = str(date_year) + \"-Q3\"\n",
        "elif date_month >= 10 and date_month <= 12:\n",
        "    quarter = str(date_year) + \"-Q4\"\n",
        "else:\n",
        "    quarter = \"Invalid month\"\n",
        "\n",
        "# Store the quarter value in a string variable named quarter\n",
        "quarter = quarter\n"
      ],
      "execution_count": 111,
      "outputs": [
        {
          "name": "stdout",
          "output_type": "stream",
          "text": [
            "Enter the year: 2003\n",
            "Enter the month (1-12): 2\n"
          ]
        }
      ]
    },
    {
      "cell_type": "code",
      "metadata": {
        "id": "KpMdlB5Fs8B8",
        "colab": {
          "base_uri": "https://localhost:8080/"
        },
        "outputId": "8dd47de5-e80d-41ae-f399-14c5ed5ebeec"
      },
      "source": [
        "# Print the extracted quarter\n",
        "print(quarter)"
      ],
      "execution_count": 112,
      "outputs": [
        {
          "output_type": "stream",
          "name": "stdout",
          "text": [
            "2003-Q1\n"
          ]
        }
      ]
    },
    {
      "cell_type": "markdown",
      "metadata": {
        "id": "5qd8g8UUs8CM"
      },
      "source": [
        "## <u>Problem 2 </u>\n",
        "\n",
        "* You went out in your local neighbourhood to collect the data of people residing in the locale. You surveyed 5 people and collected some data and stored that in a dictionary. You recorded their names, their age, their sex, their heights(in cms) and their weights(in kgs)"
      ]
    },
    {
      "cell_type": "code",
      "metadata": {
        "id": "FBJy9Sq_s8CN"
      },
      "source": [
        "# Surveyed data\n",
        "\n",
        "locality_data = {'Name' : ['Abhinav','Sohail','Dheeraj','Rashmi','Vaishali'],\n",
        "                  'Age' : [42,29,35,28,32],\n",
        "                  'Sex' : ['Male', 'Male','Male','Female','Female'] ,\n",
        "                  'Height' : [172,175,170,168,170],\n",
        "                  'Weight' : [70,82,60,55,64]\n",
        "                 }"
      ],
      "execution_count": 48,
      "outputs": []
    },
    {
      "cell_type": "markdown",
      "metadata": {
        "id": "2_rBSgqz5Ums"
      },
      "source": [
        "* Find the mean and median heights and weights of the people in your locality"
      ]
    },
    {
      "cell_type": "code",
      "metadata": {
        "id": "zywXa51d6Eev",
        "colab": {
          "base_uri": "https://localhost:8080/"
        },
        "outputId": "6b77e0b7-4fd6-4ab8-d4d4-594ef4723b2f"
      },
      "source": [
        "# Calculate the mean height and print it\n",
        "height = locality_data['Height']\n",
        "\n",
        "mean_height = sum(height) / len(height)\n",
        "\n",
        "\n",
        "# Calculate the median height and print it\n",
        "sorted_height = sorted(height)\n",
        "\n",
        "n = len(sorted_height)\n",
        "b = sorted_height[n // 2-1]\n",
        "c = sorted_height[n // 2]\n",
        "d = (b+c) / 2\n",
        "\n",
        "if n%2 == 0:\n",
        "  medium_height = d\n",
        "else:\n",
        "  mean_height = c\n",
        "\n",
        "\n",
        "# Calculate the mean weight and print it\n",
        "weight = locality_data['Weight']\n",
        "\n",
        "mean_weight = sum(weight) / len(weight)\n",
        "\n",
        "\n",
        "\n",
        "# Calculate the median weight and print it\n",
        "sorted_weight = sorted(weight)\n",
        "\n",
        "s = len(sorted_weight)\n",
        "x = sorted_weight[n // 2-1]\n",
        "y = sorted_weight[n // 2]\n",
        "z = (b+c) / 2\n",
        "\n",
        "if s%2 == 0:\n",
        "  medium_weight = z\n",
        "else:\n",
        "  medium_weight = y\n",
        "\n",
        "print(\"HEIGHT MEAN VALUE IS:\", mean_height)\n",
        "print(\"HEIGHT MEDIUM VALUE IS:\", medium_height)\n",
        "print(\"WEIGHT MEAN VALUE IS:\", mean_weight)\n",
        "print(\"WEIGHT MEDIUM VALUE IS:\", medium_weight)\n",
        "\n",
        "\n",
        "\n"
      ],
      "execution_count": 49,
      "outputs": [
        {
          "output_type": "stream",
          "name": "stdout",
          "text": [
            "HEIGHT MEAN VALUE IS: 170\n",
            "HEIGHT MEDIUM VALUE IS: 64\n",
            "WEIGHT MEAN VALUE IS: 66.2\n",
            "WEIGHT MEDIUM VALUE IS: 64\n"
          ]
        }
      ]
    },
    {
      "cell_type": "markdown",
      "metadata": {
        "id": "yLb5awgPQeYA"
      },
      "source": [
        "* Write a Python code to print the first three elements from the list of age values corresponding to the key 'Age'"
      ]
    },
    {
      "cell_type": "code",
      "metadata": {
        "id": "wef2fVgx6Gji",
        "colab": {
          "base_uri": "https://localhost:8080/"
        },
        "outputId": "46dc0844-94b7-4850-c54c-6c772475020b"
      },
      "source": [
        "# Python code to print the first three elements for the key 'Age'\n",
        "\n",
        "ages =  locality_data['Age'][:3]\n",
        "print(ages)\n"
      ],
      "execution_count": 50,
      "outputs": [
        {
          "output_type": "stream",
          "name": "stdout",
          "text": [
            "[42, 29, 35]\n"
          ]
        }
      ]
    },
    {
      "cell_type": "markdown",
      "metadata": {
        "id": "NGrZaqulRIM1"
      },
      "source": [
        "* Write a Python code to print the last two elements of the name list if the list of values corresponding to the key 'Name' contains the element 'Rashmi' else print 'Name not found'"
      ]
    },
    {
      "cell_type": "code",
      "metadata": {
        "id": "TBRZzwAcRTNL",
        "colab": {
          "base_uri": "https://localhost:8080/"
        },
        "outputId": "acd7884f-faa1-40a9-bbfb-437551282992"
      },
      "source": [
        "# Your code below\n",
        "if 'Rashmi' in locality_data['Name']:\n",
        "  print(\"Last two elements of 'Name': \", locality_data['Name'][-2:])\n",
        "else:\n",
        "  print(\"Name not found...\")\n",
        "\n",
        "\n",
        "\n"
      ],
      "execution_count": 52,
      "outputs": [
        {
          "output_type": "stream",
          "name": "stdout",
          "text": [
            "Last two elements of 'Name':  ['Rashmi', 'Vaishali']\n"
          ]
        }
      ]
    },
    {
      "cell_type": "markdown",
      "metadata": {
        "id": "ejRCi-vTs8CU"
      },
      "source": [
        "## <u> Problem 3 </u>\n",
        "\n",
        "A student will not be allowed to sit in exam if his/her attendence is less than 75%.\n",
        "\n",
        "Take following input from user\n",
        "* Number of classes held\n",
        "* Number of classes attended."
      ]
    },
    {
      "cell_type": "code",
      "metadata": {
        "id": "C5olNuDGs8CU",
        "colab": {
          "base_uri": "https://localhost:8080/"
        },
        "outputId": "4c0ac5b5-22b8-40c5-d95d-ea444e325c25"
      },
      "source": [
        "22# Enter your input\n",
        "\n",
        "print(\"Number of classes held\")\n",
        "classes_held = int(input())\n",
        "\n",
        "print(\"Number of classes attended\")\n",
        "classes_attended = int(input())"
      ],
      "execution_count": 77,
      "outputs": [
        {
          "name": "stdout",
          "output_type": "stream",
          "text": [
            "Number of classes held\n",
            "15\n",
            "Number of classes attended\n",
            "85\n"
          ]
        }
      ]
    },
    {
      "cell_type": "code",
      "metadata": {
        "id": "i553Hqamm2jR",
        "colab": {
          "base_uri": "https://localhost:8080/"
        },
        "outputId": "bc4b409f-c0c2-42f8-d30a-13e0bdfbb071"
      },
      "source": [
        "# Calculate the attendance percentage\n",
        "attendance = classes_attended*100/classes_held\n",
        "\n",
        "print(f'The attendance is {attendance}')"
      ],
      "execution_count": 78,
      "outputs": [
        {
          "output_type": "stream",
          "name": "stdout",
          "text": [
            "The attendance is 566.6666666666666\n"
          ]
        }
      ]
    },
    {
      "cell_type": "markdown",
      "metadata": {
        "id": "QYDpXSANnKxV"
      },
      "source": [
        "And print the following statements based on the condition above\n",
        "\n",
        "* percentage of class attended\n",
        "* Is student is allowed to sit in exam or not."
      ]
    },
    {
      "cell_type": "code",
      "metadata": {
        "id": "SoQ3P0yym2ts",
        "colab": {
          "base_uri": "https://localhost:8080/"
        },
        "outputId": "f9820831-dc23-450d-c1ed-9fd759b4907f"
      },
      "source": [
        "# Your code here\n",
        "attendance_total = classes_attended + classes_held\n",
        "\n",
        "attendance_percentage = classes_attended * 100 / attendance_total\n",
        "print(attendance_percentage,\"%\")\n",
        "\n"
      ],
      "execution_count": 79,
      "outputs": [
        {
          "output_type": "stream",
          "name": "stdout",
          "text": [
            "85.0 %\n"
          ]
        }
      ]
    },
    {
      "cell_type": "markdown",
      "metadata": {
        "id": "P1rOYC8Is8Cf"
      },
      "source": [
        "## <u>Problem 4</u>\n",
        "\n",
        "### A school has following rules for grading system:\n",
        "* Below 25 - F\n",
        "* 25 to 45 - E\n",
        "* 45 to 50 - D\n",
        "* 50 to 60 - C\n",
        "* 60 to 80 - B\n",
        "* Above 80 - A\n",
        "\n",
        "Keep the left number inclusive and the right number exclusive, something like [25,45) for grade E where the set is closed at 25 and open at 45.\n",
        "\n",
        "Write a Python code which takes marks as inputs from the user and print the corresponding grade."
      ]
    },
    {
      "cell_type": "code",
      "metadata": {
        "id": "ySeGyCtCs8Cg",
        "colab": {
          "base_uri": "https://localhost:8080/"
        },
        "outputId": "8333b6f5-0c64-447f-a8d2-8a135d9878f4"
      },
      "source": [
        "# Your input here\n",
        "print(\"Enter your marks\")\n",
        "marks = int(input())"
      ],
      "execution_count": 94,
      "outputs": [
        {
          "name": "stdout",
          "output_type": "stream",
          "text": [
            "Enter your marks\n",
            "21\n"
          ]
        }
      ]
    },
    {
      "cell_type": "code",
      "metadata": {
        "id": "MI7mOHaqs8Cj",
        "colab": {
          "base_uri": "https://localhost:8080/"
        },
        "outputId": "10d8c189-7ab6-48df-a908-0a9d27fdf824"
      },
      "source": [
        "# Your code here to print the corresponding grade\n",
        "\n",
        "if marks >= 80:\n",
        "    print(\"A\")\n",
        "elif marks > 60:\n",
        "    print(\"B\")\n",
        "elif marks > 50:\n",
        "    print(\"C\")\n",
        "elif marks > 45:\n",
        "    print(\"D\")\n",
        "elif marks > 25:\n",
        "    print(\"E\")\n",
        "else:\n",
        "    print(\"Fail\")\n",
        "\n",
        "\n",
        "\n",
        "\n",
        "\n",
        "\n"
      ],
      "execution_count": 95,
      "outputs": [
        {
          "output_type": "stream",
          "name": "stdout",
          "text": [
            "Fail\n"
          ]
        }
      ]
    }
  ]
}