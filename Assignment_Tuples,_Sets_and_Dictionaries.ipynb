{
  "nbformat": 4,
  "nbformat_minor": 0,
  "metadata": {
    "kernelspec": {
      "display_name": "Python 3",
      "language": "python",
      "name": "python3"
    },
    "language_info": {
      "codemirror_mode": {
        "name": "ipython",
        "version": 3
      },
      "file_extension": ".py",
      "mimetype": "text/x-python",
      "name": "python",
      "nbconvert_exporter": "python",
      "pygments_lexer": "ipython3",
      "version": "3.7.4"
    },
    "colab": {
      "provenance": [],
      "include_colab_link": true
    }
  },
  "cells": [
    {
      "cell_type": "markdown",
      "metadata": {
        "id": "view-in-github",
        "colab_type": "text"
      },
      "source": [
        "<a href=\"https://colab.research.google.com/github/Sajid-Vagh/localrepo/blob/main/Assignment_Tuples%2C_Sets_and_Dictionaries.ipynb\" target=\"_parent\"><img src=\"https://colab.research.google.com/assets/colab-badge.svg\" alt=\"Open In Colab\"/></a>"
      ]
    },
    {
      "cell_type": "markdown",
      "metadata": {
        "id": "8WbUJEVzs8Bx"
      },
      "source": [
        "## <u>While doing this assignment only use those concepts which have been taught till now</u>"
      ]
    },
    {
      "cell_type": "markdown",
      "metadata": {
        "id": "KjPWYK0Rs8By"
      },
      "source": [
        "## <u>Problem 1</u>\n",
        "\n",
        "### Another measure of average\n",
        "\n",
        "* Mode is defined as the value that appears most often in a set of data values. Mode corresponds to the most frequent value.\n",
        "* You are given a list of numbers and you need to calculate the mode of this list"
      ]
    },
    {
      "cell_type": "code",
      "metadata": {
        "id": "34TbaGurs8Bz"
      },
      "source": [
        "# A list containing average daily temperature over 10 days\n",
        "\n",
        "temperatures = [34, 40, 29, 33, 42, 40, 39, 34, 34,33 ]"
      ],
      "execution_count": 1,
      "outputs": []
    },
    {
      "cell_type": "markdown",
      "source": [],
      "metadata": {
        "id": "dlPibdtaaNZJ"
      }
    },
    {
      "cell_type": "code",
      "metadata": {
        "id": "N1Yhpkiws8B3"
      },
      "source": [
        "# Step 1 : Find the unique set of values. Store this in a list\n",
        "unique_value = list(set(temperatures))\n"
      ],
      "execution_count": 2,
      "outputs": []
    },
    {
      "cell_type": "code",
      "metadata": {
        "id": "KpMdlB5Fs8B8",
        "colab": {
          "base_uri": "https://localhost:8080/"
        },
        "outputId": "fc72a1a1-2c8f-427f-c700-77c670b2b244"
      },
      "source": [
        "# Print the unique temperature list\n",
        "print(unique_value)"
      ],
      "execution_count": 3,
      "outputs": [
        {
          "output_type": "stream",
          "name": "stdout",
          "text": [
            "[33, 34, 39, 40, 42, 29]\n"
          ]
        }
      ]
    },
    {
      "cell_type": "code",
      "metadata": {
        "id": "J7CyJi_Ls8B_"
      },
      "source": [
        "# Step 2 : Create an empty dictionary which will contain the unique temperatures as keys and their counts in the original temperatures list as values\n",
        "temp_dict = {}\n",
        "\n",
        "# Set the values for each key separately\n",
        "# First key\n",
        "temp_dict[33] = temperatures.count(33)\n",
        "\n",
        "\n",
        "# Second key\n",
        "temp_dict[34] = temperatures.count(34)\n",
        "\n",
        "\n",
        "\n",
        "# Third key\n",
        "temp_dict[39] = temperatures.count(39)\n",
        "\n",
        "\n",
        "\n",
        "# Fourth key\n",
        "\n",
        "temp_dict[40] = temperatures.count(40)\n",
        "\n",
        "\n",
        "# Fifth key\n",
        "\n",
        "temp_dict[42] = temperatures.count(42)\n",
        "\n",
        "\n",
        "# Sixth key\n",
        "temp_dict[29] = temperatures.count(29)\n"
      ],
      "execution_count": 4,
      "outputs": []
    },
    {
      "cell_type": "code",
      "metadata": {
        "id": "4-ZxbmMxtWfQ",
        "colab": {
          "base_uri": "https://localhost:8080/"
        },
        "outputId": "41f95568-dcb5-49eb-8ae8-c886ffe778c0"
      },
      "source": [
        "# Step 3: Store the dictionary values in a list\n",
        "temp_dict_frequencies = list(temp_dict.values())\n",
        "# Print the list of dictionary values\n",
        "print(temp_dict)\n",
        "# Find the index of the most frequent temperature value\n",
        "most_frequent_temp_index = max(temp_dict_frequencies)\n",
        "\n",
        "# Print the index\n",
        "print(\"Most frequent tempreture value is\", temp_dict_frequencies)"
      ],
      "execution_count": 5,
      "outputs": [
        {
          "output_type": "stream",
          "name": "stdout",
          "text": [
            "{33: 2, 34: 3, 39: 1, 40: 2, 42: 1, 29: 1}\n",
            "Most frequent tempreture value is [2, 3, 1, 2, 1, 1]\n"
          ]
        }
      ]
    },
    {
      "cell_type": "code",
      "metadata": {
        "id": "riu9mZhcwBY6",
        "colab": {
          "base_uri": "https://localhost:8080/"
        },
        "outputId": "f8939169-0c05-4333-db2a-d9ca191f3b8a"
      },
      "source": [
        "# Step 4 : Create the list of dictionary keys\n",
        "temp_dict_keys = list(temp_dict.keys())\n",
        "\n",
        "# Print the list of dictionary keys\n",
        "print(temp_dict_keys)\n",
        "\n",
        "# Calculate the mode temperature\n",
        "mode_temp = max(temp_dict, key =temp_dict.get)\n",
        "\n",
        "print(mode_temp)"
      ],
      "execution_count": 6,
      "outputs": [
        {
          "output_type": "stream",
          "name": "stdout",
          "text": [
            "[33, 34, 39, 40, 42, 29]\n",
            "34\n"
          ]
        }
      ]
    },
    {
      "cell_type": "markdown",
      "metadata": {
        "id": "5qd8g8UUs8CM"
      },
      "source": [
        "## <u>Problem 2 </u>\n",
        "\n",
        "### Challenging the immutability of tuples\n",
        "\n",
        "You are given a list of tuples. You need to replace the last element of the last tuple"
      ]
    },
    {
      "cell_type": "code",
      "metadata": {
        "id": "FBJy9Sq_s8CN"
      },
      "source": [
        "# Input list of tuples\n",
        "\n",
        "list_of_tuples = [(10,20,30),(30,40,50),(50,60,70)]\n",
        "\n",
        "\n",
        "# Expected output : Replace the last element 70 with 100\n",
        "# output_list = [(10,20,30),(30,40,50),(50,60,100)]"
      ],
      "execution_count": 7,
      "outputs": []
    },
    {
      "cell_type": "code",
      "metadata": {
        "id": "UNtYax1as8CR",
        "colab": {
          "base_uri": "https://localhost:8080/"
        },
        "outputId": "998413b2-b090-413e-c6ec-a07208a8fc94"
      },
      "source": [
        "# Your code here\n",
        "list_of_tuples[-1] = list_of_tuples[-1][:2] +(100,)\n",
        "\n",
        "# Print the output list\n",
        "print(list_of_tuples)\n"
      ],
      "execution_count": 8,
      "outputs": [
        {
          "output_type": "stream",
          "name": "stdout",
          "text": [
            "[(10, 20, 30), (30, 40, 50), (50, 60, 100)]\n"
          ]
        }
      ]
    },
    {
      "cell_type": "markdown",
      "metadata": {
        "id": "ejRCi-vTs8CU"
      },
      "source": [
        "## <u> Problem 3 </u>\n",
        "\n",
        "Natural Language Processing or NLP is one of the most promising fields in Machine Learning. Most of the times in NLP we deal with the textual data (a bunch of strings). Sometimes when we are processing the text, it is a common practice to get rid of some set of stop words from our original text. By default stop words are very common words used in English language such as and, or, punctuations etc.\n",
        "\n",
        "In this exercise, you are provided with a default set of stop words and you need to add some extra set of custom words."
      ]
    },
    {
      "cell_type": "code",
      "metadata": {
        "id": "C5olNuDGs8CU",
        "colab": {
          "base_uri": "https://localhost:8080/"
        },
        "outputId": "a9d93b40-d89c-4da6-b11d-b7a099e854eb"
      },
      "source": [
        "# A sample sentence\n",
        "\n",
        "sentence = 'Hello, good morning folks! Today we will announce the half yearly performance results of the company. Due to the ongoing COVID-19 pandemic, our profits have declined by 60% as compared to the last half yearly results'\n",
        "\n",
        "# Print your sentence\n",
        "print(sentence)"
      ],
      "execution_count": 9,
      "outputs": [
        {
          "output_type": "stream",
          "name": "stdout",
          "text": [
            "Hello, good morning folks! Today we will announce the half yearly performance results of the company. Due to the ongoing COVID-19 pandemic, our profits have declined by 60% as compared to the last half yearly results\n"
          ]
        }
      ]
    },
    {
      "cell_type": "code",
      "metadata": {
        "id": "B4afm8gCs8CY"
      },
      "source": [
        "# Default set of stop words\n",
        "stop_words = {\"i\", \"me\", \"my\", \"myself\", \"we\", \"our\", \"ours\", \"ourselves\", \"you\", \"your\", \"yours\", \"yourself\",\n",
        "              \"yourselves\", \"he\", \"him\", \"his\", \"himself\", \"she\", \"her\", \"hers\", \"herself\", \"it\", \"its\", \"itself\",\n",
        "              \"they\", \"them\", \"their\", \"theirs\", \"themselves\", \"what\", \"which\", \"who\", \"whom\", \"this\", \"that\",\n",
        "              \"these\", \"those\", \"am\", \"is\", \"are\", \"was\", \"were\", \"be\", \"been\", \"being\", \"have\", \"has\", \"had\",\n",
        "              \"having\", \"do\", \"does\", \"did\", \"doing\", \"a\", \"an\", \"the\", \"and\", \"but\", \"if\", \"or\", \"because\",\n",
        "              \"as\", \"until\", \"while\", \"of\", \"at\", \"by\", \"for\", \"with\", \"about\", \"against\", \"between\", \"into\",\n",
        "              \"through\", \"during\", \"before\", \"after\", \"above\", \"below\", \"to\", \"from\", \"up\", \"down\", \"in\", \"out\",\n",
        "              \"on\", \"off\", \"over\", \"under\", \"again\", \"further\", \"then\", \"once\", \"here\", \"there\", \"when\", \"where\",\n",
        "              \"why\", \"how\", \"all\", \"any\", \"both\", \"each\", \"few\", \"more\", \"most\", \"other\", \"some\", \"such\", \"no\",\n",
        "              \"nor\", \"not\", \"only\", \"own\", \"same\", \"so\", \"than\", \"too\", \"very\", \"s\", \"t\", \"can\", \"will\", \"just\",\n",
        "              \"don\", \"should\", \"now\"}\n"
      ],
      "execution_count": 10,
      "outputs": []
    },
    {
      "cell_type": "code",
      "metadata": {
        "id": "evgHHnRks8Cc",
        "colab": {
          "base_uri": "https://localhost:8080/"
        },
        "outputId": "eb616635-3c3b-4fc7-b2e9-9645e49a1993"
      },
      "source": [
        "# Update the set of stop words by adding the custom stop words\n",
        "custom_stop_words = [\"hello\",\"good\",\"morning\",\"half\",\"yearly\"]\n",
        "\n",
        "# Your code here\n",
        "stop_words.update(custom_stop_words)\n",
        "\n",
        "# Print the updated stop words\n",
        "print(stop_words)"
      ],
      "execution_count": 11,
      "outputs": [
        {
          "output_type": "stream",
          "name": "stdout",
          "text": [
            "{'those', 'have', 'himself', 'am', 'them', 'once', 'than', 'should', 'yearly', 'him', 'is', 'on', 'good', 'before', 'a', 'her', 'was', 'off', 'so', 'he', 'from', 'myself', 'down', 'hers', 'too', 'were', 'his', 'itself', 'of', 'our', 'more', 'most', 'this', 'while', 'other', 'same', 'with', 'above', 'some', 'by', 'it', 'an', 'into', 'or', 'there', 'why', 's', 'having', 'been', 'don', 'what', 'are', 'will', 'here', 'own', 'few', 'only', 'the', 'when', 'no', 'where', 'now', 'your', 'its', 'up', 'be', 'in', 'herself', 'how', 'do', 'further', 'about', 'whom', 'out', 'i', 'had', 'against', 'these', 'any', 'who', 'can', 'such', 'below', 'yours', 'then', 'not', 'we', 'me', 'again', 'did', 'she', 't', 'at', 'their', 'has', 'over', 'half', 'doing', 'under', 'just', 'my', 'between', 'which', 'theirs', 'all', 'through', 'during', 'ours', 'until', 'they', 'because', 'yourself', 'ourselves', 'hello', 'that', 'themselves', 'as', 'being', 'for', 'to', 'both', 'nor', 'if', 'and', 'you', 'morning', 'yourselves', 'does', 'each', 'but', 'after', 'very'}\n"
          ]
        }
      ]
    },
    {
      "cell_type": "code",
      "metadata": {
        "id": "1QbZrotrtIE3",
        "colab": {
          "base_uri": "https://localhost:8080/"
        },
        "outputId": "4e635b5c-9772-46ec-bf5a-3c1f3f48bb7b"
      },
      "source": [
        "# Do the same task another way. Keep in mind to use the original set of stop_words for this piece of code\n",
        "\n",
        "updated_stop_words = stop_words.union(custom_stop_words)\n",
        "\n",
        "# Print the updated stop words\n",
        "print(updated_stop_words)"
      ],
      "execution_count": 12,
      "outputs": [
        {
          "output_type": "stream",
          "name": "stdout",
          "text": [
            "{'yearly', 'him', 'good', 'on', 'her', 'was', 'off', 'myself', 'down', 'hers', 'his', 'itself', 'our', 'most', 'this', 'same', 'above', 'it', 'an', 'there', 'been', 'don', 'what', 'are', 'will', 'here', 'own', 'only', 'the', 'no', 'its', 'in', 'how', 'about', 'out', 'i', 'had', 'yours', 'not', 'again', 'did', 't', 'has', 'over', 'under', 'just', 'through', 'ours', 'they', 'yourself', 'hello', 'as', 'nor', 'and', 'yourselves', 'each', 'after', 'very', 'those', 'have', 'himself', 'am', 'them', 'once', 'than', 'should', 'is', 'before', 'a', 'so', 'he', 'from', 'too', 'were', 'of', 'more', 'while', 'other', 'with', 'some', 'by', 'into', 'or', 'why', 's', 'having', 'few', 'when', 'where', 'now', 'your', 'up', 'be', 'herself', 'do', 'further', 'whom', 'against', 'any', 'who', 'can', 'such', 'below', 'then', 'we', 'me', 'she', 'at', 'half', 'their', 'doing', 'my', 'between', 'which', 'theirs', 'all', 'during', 'until', 'because', 'ourselves', 'that', 'themselves', 'being', 'for', 'to', 'both', 'if', 'you', 'morning', 'does', 'but', 'these'}\n"
          ]
        }
      ]
    },
    {
      "cell_type": "markdown",
      "metadata": {
        "id": "P1rOYC8Is8Cf"
      },
      "source": [
        "## <u>Problem 4</u>\n",
        "\n",
        " Write a Python script to check whether a given key already exists in a dictionary. If it does, drop that key from the dictionary. If it does not, add that key and corresponding value to the dictionary"
      ]
    },
    {
      "cell_type": "code",
      "metadata": {
        "id": "ySeGyCtCs8Cg"
      },
      "source": [
        "# Your dictionary\n",
        "employee_dict = {'Name':'Sanket','Skills':['Python','Machine Learning','Deep Learning'],'Band':6.0,\n",
        "                 'Promotion Year':[2016,2018,2020]}"
      ],
      "execution_count": 13,
      "outputs": []
    },
    {
      "cell_type": "code",
      "metadata": {
        "id": "MI7mOHaqs8Cj",
        "colab": {
          "base_uri": "https://localhost:8080/"
        },
        "outputId": "93598bce-d97f-4a63-d848-fd5723a31189"
      },
      "source": [
        "# Check if the key 'Employee_ID' is present in the dictionary. Hint : use a boolean variable to store this value\n",
        "Employee_Id_present = \"Employee_Id\" in employee_dict\n",
        "print(\"Is 'Employee_ID' present in the dictionary?\", Employee_Id_present)\n",
        "# If not present add this key to this dictionary and the corresponding value to be 4503233\n",
        "if 'Employee_Id' not in employee_dict:\n",
        "  employee_dict['Employee_Id'] = 4503233\n",
        "  print(\"Key 'Employee_ID' added to the dictionary with value 4503233.\")\n",
        "else:\n",
        "    print(\"Key 'Employee_ID' already exists in the dictionary.\")\n",
        "\n",
        "\n",
        "print(employee_dict)\n"
      ],
      "execution_count": 14,
      "outputs": [
        {
          "output_type": "stream",
          "name": "stdout",
          "text": [
            "Is 'Employee_ID' present in the dictionary? False\n",
            "Key 'Employee_ID' added to the dictionary with value 4503233.\n",
            "{'Name': 'Sanket', 'Skills': ['Python', 'Machine Learning', 'Deep Learning'], 'Band': 6.0, 'Promotion Year': [2016, 2018, 2020], 'Employee_Id': 4503233}\n"
          ]
        }
      ]
    },
    {
      "cell_type": "code",
      "metadata": {
        "id": "ARPbZfY8s8Co",
        "colab": {
          "base_uri": "https://localhost:8080/"
        },
        "outputId": "1cbec11e-2c8a-429c-e113-fe09ff7e3545"
      },
      "source": [
        "# Check if the key 'Band' is present in the dictionary.\n",
        "Band_present = \"Band_presant\" in employee_dict\n",
        "\n",
        "# If present, drop this key from the dictionary\n",
        "if \"Band\" in employee_dict:\n",
        "  employee_dict.pop('Band')\n",
        "  print(\"Drop this key in dictionary\")\n",
        "else:\n",
        "  print(\"Not present in dictionary\")"
      ],
      "execution_count": 15,
      "outputs": [
        {
          "output_type": "stream",
          "name": "stdout",
          "text": [
            "Drop this key in dictionary\n"
          ]
        }
      ]
    },
    {
      "cell_type": "code",
      "metadata": {
        "id": "lUDbbyXmulzh",
        "colab": {
          "base_uri": "https://localhost:8080/"
        },
        "outputId": "dde185e9-d712-4969-bcea-efd47246b305"
      },
      "source": [
        "# Print the updated dictionary\n",
        "print(employee_dict)"
      ],
      "execution_count": 17,
      "outputs": [
        {
          "output_type": "stream",
          "name": "stdout",
          "text": [
            "{'Name': 'Sanket', 'Skills': ['Python', 'Machine Learning', 'Deep Learning'], 'Promotion Year': [2016, 2018, 2020], 'Employee_Id': 4503233}\n"
          ]
        }
      ]
    }
  ]
}